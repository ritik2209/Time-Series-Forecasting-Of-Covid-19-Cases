{
 "cells": [
  {
   "cell_type": "markdown",
   "metadata": {},
   "source": [
    "### Time-Series Forecasting Of Covid-19 Cases In Brazil (GRU)"
   ]
  },
  {
   "cell_type": "code",
   "execution_count": 1,
   "metadata": {},
   "outputs": [],
   "source": [
    "import pandas as pd\n",
    "import numpy as np\n",
    "import matplotlib.pyplot as plt"
   ]
  },
  {
   "cell_type": "code",
   "execution_count": 5,
   "metadata": {},
   "outputs": [],
   "source": [
    "df=pd.read_csv('BRAZZIL.csv')"
   ]
  },
  {
   "cell_type": "code",
   "execution_count": 6,
   "metadata": {},
   "outputs": [
    {
     "data": {
      "text/html": [
       "<div>\n",
       "<style scoped>\n",
       "    .dataframe tbody tr th:only-of-type {\n",
       "        vertical-align: middle;\n",
       "    }\n",
       "\n",
       "    .dataframe tbody tr th {\n",
       "        vertical-align: top;\n",
       "    }\n",
       "\n",
       "    .dataframe thead th {\n",
       "        text-align: right;\n",
       "    }\n",
       "</style>\n",
       "<table border=\"1\" class=\"dataframe\">\n",
       "  <thead>\n",
       "    <tr style=\"text-align: right;\">\n",
       "      <th></th>\n",
       "      <th>Date</th>\n",
       "      <th>Total</th>\n",
       "      <th>Daily Cases</th>\n",
       "      <th>Total Deaths</th>\n",
       "      <th>Daily Deaths</th>\n",
       "    </tr>\n",
       "  </thead>\n",
       "  <tbody>\n",
       "    <tr>\n",
       "      <th>0</th>\n",
       "      <td>26-02-2020</td>\n",
       "      <td>1</td>\n",
       "      <td>1</td>\n",
       "      <td>0</td>\n",
       "      <td>0</td>\n",
       "    </tr>\n",
       "    <tr>\n",
       "      <th>1</th>\n",
       "      <td>27-02-2020</td>\n",
       "      <td>1</td>\n",
       "      <td>0</td>\n",
       "      <td>0</td>\n",
       "      <td>0</td>\n",
       "    </tr>\n",
       "    <tr>\n",
       "      <th>2</th>\n",
       "      <td>28-02-2020</td>\n",
       "      <td>1</td>\n",
       "      <td>0</td>\n",
       "      <td>0</td>\n",
       "      <td>0</td>\n",
       "    </tr>\n",
       "    <tr>\n",
       "      <th>3</th>\n",
       "      <td>29-02-2020</td>\n",
       "      <td>1</td>\n",
       "      <td>0</td>\n",
       "      <td>0</td>\n",
       "      <td>0</td>\n",
       "    </tr>\n",
       "    <tr>\n",
       "      <th>4</th>\n",
       "      <td>01-03-2020</td>\n",
       "      <td>2</td>\n",
       "      <td>1</td>\n",
       "      <td>0</td>\n",
       "      <td>0</td>\n",
       "    </tr>\n",
       "  </tbody>\n",
       "</table>\n",
       "</div>"
      ],
      "text/plain": [
       "         Date  Total  Daily Cases  Total Deaths  Daily Deaths\n",
       "0  26-02-2020      1            1             0             0\n",
       "1  27-02-2020      1            0             0             0\n",
       "2  28-02-2020      1            0             0             0\n",
       "3  29-02-2020      1            0             0             0\n",
       "4  01-03-2020      2            1             0             0"
      ]
     },
     "execution_count": 6,
     "metadata": {},
     "output_type": "execute_result"
    }
   ],
   "source": [
    "df.head()"
   ]
  },
  {
   "cell_type": "code",
   "execution_count": 7,
   "metadata": {},
   "outputs": [
    {
     "data": {
      "text/html": [
       "<div>\n",
       "<style scoped>\n",
       "    .dataframe tbody tr th:only-of-type {\n",
       "        vertical-align: middle;\n",
       "    }\n",
       "\n",
       "    .dataframe tbody tr th {\n",
       "        vertical-align: top;\n",
       "    }\n",
       "\n",
       "    .dataframe thead th {\n",
       "        text-align: right;\n",
       "    }\n",
       "</style>\n",
       "<table border=\"1\" class=\"dataframe\">\n",
       "  <thead>\n",
       "    <tr style=\"text-align: right;\">\n",
       "      <th></th>\n",
       "      <th>Date</th>\n",
       "      <th>Total</th>\n",
       "      <th>Daily Cases</th>\n",
       "      <th>Total Deaths</th>\n",
       "      <th>Daily Deaths</th>\n",
       "    </tr>\n",
       "  </thead>\n",
       "  <tbody>\n",
       "    <tr>\n",
       "      <th>162</th>\n",
       "      <td>06-08-2020</td>\n",
       "      <td>2912212</td>\n",
       "      <td>53139</td>\n",
       "      <td>98493</td>\n",
       "      <td>1237</td>\n",
       "    </tr>\n",
       "    <tr>\n",
       "      <th>163</th>\n",
       "      <td>07-08-2020</td>\n",
       "      <td>2962442</td>\n",
       "      <td>50230</td>\n",
       "      <td>99572</td>\n",
       "      <td>1079</td>\n",
       "    </tr>\n",
       "    <tr>\n",
       "      <th>164</th>\n",
       "      <td>08-08-2020</td>\n",
       "      <td>3012412</td>\n",
       "      <td>49970</td>\n",
       "      <td>100477</td>\n",
       "      <td>905</td>\n",
       "    </tr>\n",
       "    <tr>\n",
       "      <th>165</th>\n",
       "      <td>09-08-2020</td>\n",
       "      <td>3035422</td>\n",
       "      <td>23010</td>\n",
       "      <td>101049</td>\n",
       "      <td>572</td>\n",
       "    </tr>\n",
       "    <tr>\n",
       "      <th>166</th>\n",
       "      <td>10-08-2020</td>\n",
       "      <td>3057470</td>\n",
       "      <td>22048</td>\n",
       "      <td>101752</td>\n",
       "      <td>703</td>\n",
       "    </tr>\n",
       "  </tbody>\n",
       "</table>\n",
       "</div>"
      ],
      "text/plain": [
       "           Date    Total  Daily Cases  Total Deaths  Daily Deaths\n",
       "162  06-08-2020  2912212        53139         98493          1237\n",
       "163  07-08-2020  2962442        50230         99572          1079\n",
       "164  08-08-2020  3012412        49970        100477           905\n",
       "165  09-08-2020  3035422        23010        101049           572\n",
       "166  10-08-2020  3057470        22048        101752           703"
      ]
     },
     "execution_count": 7,
     "metadata": {},
     "output_type": "execute_result"
    }
   ],
   "source": [
    "df.tail()"
   ]
  },
  {
   "cell_type": "code",
   "execution_count": 8,
   "metadata": {},
   "outputs": [],
   "source": [
    "df1=df.reset_index()['Total']"
   ]
  },
  {
   "cell_type": "code",
   "execution_count": 9,
   "metadata": {
    "scrolled": true
   },
   "outputs": [
    {
     "data": {
      "text/plain": [
       "[<matplotlib.lines.Line2D at 0x1fd0c6d3760>]"
      ]
     },
     "execution_count": 9,
     "metadata": {},
     "output_type": "execute_result"
    },
    {
     "data": {
      "image/png": "[encoded data removed]",
      "text/plain": [
       "<Figure size 432x288 with 1 Axes>"
      ]
     },
     "metadata": {
      "needs_background": "light"
     },
     "output_type": "display_data"
    }
   ],
   "source": [
    "plt.plot(df1)"
   ]
  },
  {
   "cell_type": "code",
   "execution_count": 15,
   "metadata": {},
   "outputs": [
    {
     "data": {
      "text/plain": [
       "0            0\n",
       "1            1\n",
       "2            1\n",
       "3            1\n",
       "4            2\n",
       "        ...   \n",
       "160    2750318\n",
       "161    2801921\n",
       "162    2859073\n",
       "163    2912212\n",
       "164    2962442\n",
       "Name: Total, Length: 165, dtype: int64"
      ]
     },
     "execution_count": 15,
     "metadata": {},
     "output_type": "execute_result"
    }
   ],
   "source": [
    "df1"
   ]
  },
  {
   "cell_type": "code",
   "execution_count": 16,
   "metadata": {},
   "outputs": [],
   "source": [
    "from sklearn.preprocessing import MinMaxScaler\n",
    "scaler=MinMaxScaler(feature_range=(0,1))\n",
    "df1=scaler.fit_transform(np.array(df1).reshape(-1,1))"
   ]
  },
  {
   "cell_type": "code",
   "execution_count": 17,
   "metadata": {},
   "outputs": [
    {
     "name": "stdout",
     "output_type": "stream",
     "text": [
      "[[0.00000000e+00]\n",
      " [3.37559351e-07]\n",
      " [3.37559351e-07]\n",
      " [3.37559351e-07]\n",
      " [6.75118703e-07]\n",
      " [6.75118703e-07]\n",
      " [6.75118703e-07]\n",
      " [6.75118703e-07]\n",
      " [1.01267805e-06]\n",
      " [2.36291546e-06]\n",
      " [4.38827157e-06]\n",
      " [6.41362768e-06]\n",
      " [8.43898378e-06]\n",
      " [8.43898378e-06]\n",
      " [1.14770179e-05]\n",
      " [1.75530863e-05]\n",
      " [2.59920701e-05]\n",
      " [3.30808164e-05]\n",
      " [4.08446815e-05]\n",
      " [6.75118703e-05]\n",
      " [7.89888882e-05]\n",
      " [9.82297712e-05]\n",
      " [1.44475402e-04]\n",
      " [2.09624357e-04]\n",
      " [3.05153654e-04]\n",
      " [3.80766948e-04]\n",
      " [5.21866757e-04]\n",
      " [6.38324733e-04]\n",
      " [7.42968132e-04]\n",
      " [8.21281902e-04]\n",
      " [9.83985509e-04]\n",
      " [1.15344030e-03]\n",
      " [1.31749415e-03]\n",
      " [1.43665260e-03]\n",
      " [1.54568427e-03]\n",
      " [1.92982681e-03]\n",
      " [2.30688061e-03]\n",
      " [2.67009447e-03]\n",
      " [3.05693749e-03]\n",
      " [3.46943501e-03]\n",
      " [3.75703558e-03]\n",
      " [4.06961554e-03]\n",
      " [4.63030162e-03]\n",
      " [5.37630779e-03]\n",
      " [6.02779734e-03]\n",
      " [6.62899054e-03]\n",
      " [6.99659268e-03]\n",
      " [7.48335326e-03]\n",
      " [7.90901560e-03]\n",
      " [8.52742433e-03]\n",
      " [9.55968083e-03]\n",
      " [1.02702433e-02]\n",
      " [1.13696741e-02]\n",
      " [1.23543347e-02]\n",
      " [1.30480192e-02]\n",
      " [1.36984960e-02]\n",
      " [1.45417193e-02]\n",
      " [1.54457032e-02]\n",
      " [1.67064874e-02]\n",
      " [1.78889578e-02]\n",
      " [1.97502601e-02]\n",
      " [2.08908731e-02]\n",
      " [2.24480344e-02]\n",
      " [2.42657915e-02]\n",
      " [2.63843140e-02]\n",
      " [2.88208174e-02]\n",
      " [3.08188312e-02]\n",
      " [3.25393712e-02]\n",
      " [3.41431157e-02]\n",
      " [3.63821469e-02]\n",
      " [3.87231210e-02]\n",
      " [4.22685069e-02]\n",
      " [4.56062937e-02]\n",
      " [4.90568254e-02]\n",
      " [5.26386677e-02]\n",
      " [5.49205689e-02]\n",
      " [5.68217032e-02]\n",
      " [5.99468277e-02]\n",
      " [6.37899409e-02]\n",
      " [6.84968685e-02]\n",
      " [7.36632143e-02]\n",
      " [7.86992623e-02]\n",
      " [8.13788084e-02]\n",
      " [8.58143383e-02]\n",
      " [9.16905715e-02]\n",
      " [9.84252181e-02]\n",
      " [1.04672767e-01]\n",
      " [1.11695014e-01]\n",
      " [1.17267444e-01]\n",
      " [1.22605270e-01]\n",
      " [1.26550326e-01]\n",
      " [1.32060645e-01]\n",
      " [1.39014030e-01]\n",
      " [1.47931335e-01]\n",
      " [1.57021133e-01]\n",
      " [1.68253083e-01]\n",
      " [1.73573018e-01]\n",
      " [1.77707108e-01]\n",
      " [1.87474725e-01]\n",
      " [1.97140062e-01]\n",
      " [2.07579085e-01]\n",
      " [2.17986040e-01]\n",
      " [2.27125459e-01]\n",
      " [2.33509382e-01]\n",
      " [2.38793536e-01]\n",
      " [2.49626153e-01]\n",
      " [2.60736244e-01]\n",
      " [2.71002099e-01]\n",
      " [2.79772566e-01]\n",
      " [2.87098954e-01]\n",
      " [2.92874595e-01]\n",
      " [2.99844183e-01]\n",
      " [3.11631080e-01]\n",
      " [3.22496440e-01]\n",
      " [3.30180979e-01]\n",
      " [3.48669442e-01]\n",
      " [3.60371275e-01]\n",
      " [3.66264723e-01]\n",
      " [3.73499296e-01]\n",
      " [3.86811286e-01]\n",
      " [4.01233509e-01]\n",
      " [4.14561365e-01]\n",
      " [4.30379396e-01]\n",
      " [4.43440580e-01]\n",
      " [4.53728039e-01]\n",
      " [4.61847017e-01]\n",
      " [4.73272051e-01]\n",
      " [4.89040123e-01]\n",
      " [5.05278416e-01]\n",
      " [5.19531184e-01]\n",
      " [5.32332447e-01]\n",
      " [5.41126206e-01]\n",
      " [5.47954694e-01]\n",
      " [5.63247821e-01]\n",
      " [5.78293178e-01]\n",
      " [5.92679620e-01]\n",
      " [6.07885994e-01]\n",
      " [6.21058573e-01]\n",
      " [6.29440509e-01]\n",
      " [6.36288238e-01]\n",
      " [6.50417460e-01]\n",
      " [6.63894179e-01]\n",
      " [6.79220386e-01]\n",
      " [6.90757152e-01]\n",
      " [7.00388396e-01]\n",
      " [7.08330830e-01]\n",
      " [7.15168770e-01]\n",
      " [7.29011403e-01]\n",
      " [7.51918181e-01]\n",
      " [7.72158577e-01]\n",
      " [7.91025107e-01]\n",
      " [8.08290255e-01]\n",
      " [8.16586789e-01]\n",
      " [8.24446521e-01]\n",
      " [8.38224343e-01]\n",
      " [8.61540918e-01]\n",
      " [8.81064338e-01]\n",
      " [8.98746710e-01]\n",
      " [9.14069204e-01]\n",
      " [9.22778235e-01]\n",
      " [9.28395560e-01]\n",
      " [9.45814635e-01]\n",
      " [9.65106827e-01]\n",
      " [9.83044394e-01]\n",
      " [1.00000000e+00]]\n"
     ]
    }
   ],
   "source": [
    "print(df1)"
   ]
  },
  {
   "cell_type": "code",
   "execution_count": 18,
   "metadata": {},
   "outputs": [],
   "source": [
    "training_size=int(len(df1)*0.60)\n",
    "test_size=len(df1)-training_size\n",
    "train_data,test_data=df1[0:training_size,:],df1[training_size:len(df1),:1]"
   ]
  },
  {
   "cell_type": "code",
   "execution_count": 19,
   "metadata": {},
   "outputs": [
    {
     "data": {
      "text/plain": [
       "(99, 66)"
      ]
     },
     "execution_count": 19,
     "metadata": {},
     "output_type": "execute_result"
    }
   ],
   "source": [
    "training_size,test_size"
   ]
  },
  {
   "cell_type": "code",
   "execution_count": 20,
   "metadata": {},
   "outputs": [
    {
     "data": {
      "text/plain": [
       "array([[0.00000000e+00],\n",
       "       [3.37559351e-07],\n",
       "       [3.37559351e-07],\n",
       "       [3.37559351e-07],\n",
       "       [6.75118703e-07],\n",
       "       [6.75118703e-07],\n",
       "       [6.75118703e-07],\n",
       "       [6.75118703e-07],\n",
       "       [1.01267805e-06],\n",
       "       [2.36291546e-06],\n",
       "       [4.38827157e-06],\n",
       "       [6.41362768e-06],\n",
       "       [8.43898378e-06],\n",
       "       [8.43898378e-06],\n",
       "       [1.14770179e-05],\n",
       "       [1.75530863e-05],\n",
       "       [2.59920701e-05],\n",
       "       [3.30808164e-05],\n",
       "       [4.08446815e-05],\n",
       "       [6.75118703e-05],\n",
       "       [7.89888882e-05],\n",
       "       [9.82297712e-05],\n",
       "       [1.44475402e-04],\n",
       "       [2.09624357e-04],\n",
       "       [3.05153654e-04],\n",
       "       [3.80766948e-04],\n",
       "       [5.21866757e-04],\n",
       "       [6.38324733e-04],\n",
       "       [7.42968132e-04],\n",
       "       [8.21281902e-04],\n",
       "       [9.83985509e-04],\n",
       "       [1.15344030e-03],\n",
       "       [1.31749415e-03],\n",
       "       [1.43665260e-03],\n",
       "       [1.54568427e-03],\n",
       "       [1.92982681e-03],\n",
       "       [2.30688061e-03],\n",
       "       [2.67009447e-03],\n",
       "       [3.05693749e-03],\n",
       "       [3.46943501e-03],\n",
       "       [3.75703558e-03],\n",
       "       [4.06961554e-03],\n",
       "       [4.63030162e-03],\n",
       "       [5.37630779e-03],\n",
       "       [6.02779734e-03],\n",
       "       [6.62899054e-03],\n",
       "       [6.99659268e-03],\n",
       "       [7.48335326e-03],\n",
       "       [7.90901560e-03],\n",
       "       [8.52742433e-03],\n",
       "       [9.55968083e-03],\n",
       "       [1.02702433e-02],\n",
       "       [1.13696741e-02],\n",
       "       [1.23543347e-02],\n",
       "       [1.30480192e-02],\n",
       "       [1.36984960e-02],\n",
       "       [1.45417193e-02],\n",
       "       [1.54457032e-02],\n",
       "       [1.67064874e-02],\n",
       "       [1.78889578e-02],\n",
       "       [1.97502601e-02],\n",
       "       [2.08908731e-02],\n",
       "       [2.24480344e-02],\n",
       "       [2.42657915e-02],\n",
       "       [2.63843140e-02],\n",
       "       [2.88208174e-02],\n",
       "       [3.08188312e-02],\n",
       "       [3.25393712e-02],\n",
       "       [3.41431157e-02],\n",
       "       [3.63821469e-02],\n",
       "       [3.87231210e-02],\n",
       "       [4.22685069e-02],\n",
       "       [4.56062937e-02],\n",
       "       [4.90568254e-02],\n",
       "       [5.26386677e-02],\n",
       "       [5.49205689e-02],\n",
       "       [5.68217032e-02],\n",
       "       [5.99468277e-02],\n",
       "       [6.37899409e-02],\n",
       "       [6.84968685e-02],\n",
       "       [7.36632143e-02],\n",
       "       [7.86992623e-02],\n",
       "       [8.13788084e-02],\n",
       "       [8.58143383e-02],\n",
       "       [9.16905715e-02],\n",
       "       [9.84252181e-02],\n",
       "       [1.04672767e-01],\n",
       "       [1.11695014e-01],\n",
       "       [1.17267444e-01],\n",
       "       [1.22605270e-01],\n",
       "       [1.26550326e-01],\n",
       "       [1.32060645e-01],\n",
       "       [1.39014030e-01],\n",
       "       [1.47931335e-01],\n",
       "       [1.57021133e-01],\n",
       "       [1.68253083e-01],\n",
       "       [1.73573018e-01],\n",
       "       [1.77707108e-01],\n",
       "       [1.87474725e-01]])"
      ]
     },
     "execution_count": 20,
     "metadata": {},
     "output_type": "execute_result"
    }
   ],
   "source": [
    "train_data"
   ]
  },
  {
   "cell_type": "code",
   "execution_count": 21,
   "metadata": {},
   "outputs": [
    {
     "data": {
      "text/plain": [
       "[<matplotlib.lines.Line2D at 0x1d0a5c0f9d0>]"
      ]
     },
     "execution_count": 21,
     "metadata": {},
     "output_type": "execute_result"
    },
    {
     "data": {
      "image/png": "[encoded data removed]",
      "text/plain": [
       "<Figure size 432x288 with 1 Axes>"
      ]
     },
     "metadata": {
      "needs_background": "light"
     },
     "output_type": "display_data"
    }
   ],
   "source": [
    "plt.plot(train_data)"
   ]
  },
  {
   "cell_type": "code",
   "execution_count": 22,
   "metadata": {},
   "outputs": [],
   "source": [
    "import numpy\n",
    "def create_dataset(dataset, time_step=1):\n",
    "\tdataX, dataY = [], []\n",
    "\tfor i in range(len(dataset)-time_step-1):\n",
    "\t\ta = dataset[i:(i+time_step), 0]  \n",
    "\t\tdataX.append(a)\n",
    "\t\tdataY.append(dataset[i + time_step, 0])\n",
    "\treturn numpy.array(dataX), numpy.array(dataY)"
   ]
  },
  {
   "cell_type": "code",
   "execution_count": 23,
   "metadata": {},
   "outputs": [],
   "source": [
    "time_step = 55\n",
    "X_train, y_train = create_dataset(train_data, time_step)\n",
    "X_test, ytest = create_dataset(test_data, time_step)"
   ]
  },
  {
   "cell_type": "code",
   "execution_count": 24,
   "metadata": {},
   "outputs": [
    {
     "name": "stdout",
     "output_type": "stream",
     "text": [
      "(43, 55)\n",
      "(43,)\n"
     ]
    },
    {
     "data": {
      "text/plain": [
       "(None, None)"
      ]
     },
     "execution_count": 24,
     "metadata": {},
     "output_type": "execute_result"
    }
   ],
   "source": [
    "print(X_train.shape), print(y_train.shape)"
   ]
  },
  {
   "cell_type": "code",
   "execution_count": 25,
   "metadata": {},
   "outputs": [
    {
     "name": "stdout",
     "output_type": "stream",
     "text": [
      "(10, 55)\n",
      "(10,)\n"
     ]
    },
    {
     "data": {
      "text/plain": [
       "(None, None)"
      ]
     },
     "execution_count": 25,
     "metadata": {},
     "output_type": "execute_result"
    }
   ],
   "source": [
    "print(X_test.shape), print(ytest.shape)"
   ]
  },
  {
   "cell_type": "code",
   "execution_count": 26,
   "metadata": {},
   "outputs": [],
   "source": [
    "X_train =X_train.reshape(X_train.shape[0],X_train.shape[1] , 1)\n",
    "X_test = X_test.reshape(X_test.shape[0],X_test.shape[1] , 1)"
   ]
  },
  {
   "cell_type": "code",
   "execution_count": 27,
   "metadata": {},
   "outputs": [],
   "source": [
    "from tensorflow.keras.models import Sequential\n",
    "from tensorflow.keras.layers import Dense\n",
    "from tensorflow.keras.layers import LSTM\n",
    "from tensorflow.keras.layers import GRU\n",
    "from tensorflow.keras.layers import Bidirectional\n",
    "from tensorflow.keras.layers import Dropout\n",
    "from tensorflow.keras.layers import SimpleRNN\n",
    "from tensorflow.keras.layers import BatchNormalization\n"
   ]
  },
  {
   "cell_type": "code",
   "execution_count": 31,
   "metadata": {},
   "outputs": [],
   "source": [
    "model=Sequential()\n",
    "model.add(GRU(128,input_shape=(55, 1)))\n",
    "model.add(Dense(1))\n",
    "model.compile(loss='mean_squared_error',optimizer='adam')\n"
   ]
  },
  {
   "cell_type": "code",
   "execution_count": 32,
   "metadata": {},
   "outputs": [
    {
     "name": "stdout",
     "output_type": "stream",
     "text": [
      "Model: \"sequential_1\"\n",
      "_________________________________________________________________\n",
      "Layer (type)                 Output Shape              Param #   \n",
      "=================================================================\n",
      "gru_1 (GRU)                  (None, 128)               50304     \n",
      "_________________________________________________________________\n",
      "dense_1 (Dense)              (None, 1)                 129       \n",
      "=================================================================\n",
      "Total params: 50,433\n",
      "Trainable params: 50,433\n",
      "Non-trainable params: 0\n",
      "_________________________________________________________________\n"
     ]
    }
   ],
   "source": [
    "model.summary()"
   ]
  },
  {
   "cell_type": "code",
   "execution_count": 33,
   "metadata": {
    "scrolled": true
   },
   "outputs": [
    {
     "name": "stdout",
     "output_type": "stream",
     "text": [
      "Epoch 1/200\n",
      "43/43 [==============================] - 1s 23ms/step - loss: 0.0026 - val_loss: 0.1012\n",
      "Epoch 2/200\n",
      "43/43 [==============================] - 0s 10ms/step - loss: 3.7410e-04 - val_loss: 0.0061\n",
      "Epoch 3/200\n",
      "43/43 [==============================] - 0s 10ms/step - loss: 8.6786e-06 - val_loss: 0.0136\n",
      "Epoch 4/200\n",
      "43/43 [==============================] - 0s 10ms/step - loss: 1.2955e-05 - val_loss: 0.0079\n",
      "Epoch 5/200\n",
      "43/43 [==============================] - 0s 9ms/step - loss: 6.0369e-06 - val_loss: 0.0088\n",
      "Epoch 6/200\n",
      "43/43 [==============================] - 0s 9ms/step - loss: 8.5274e-06 - val_loss: 0.0065\n",
      "Epoch 7/200\n",
      "43/43 [==============================] - 0s 9ms/step - loss: 5.4100e-06 - val_loss: 0.0143\n",
      "Epoch 8/200\n",
      "43/43 [==============================] - 0s 10ms/step - loss: 1.2559e-05 - val_loss: 0.0138\n",
      "Epoch 9/200\n",
      "43/43 [==============================] - 0s 9ms/step - loss: 9.0190e-06 - val_loss: 0.0054\n",
      "Epoch 10/200\n",
      "43/43 [==============================] - 0s 9ms/step - loss: 7.3655e-06 - val_loss: 0.0024\n",
      "Epoch 11/200\n",
      "43/43 [==============================] - 0s 9ms/step - loss: 1.4161e-05 - val_loss: 0.0104\n",
      "Epoch 12/200\n",
      "43/43 [==============================] - 0s 9ms/step - loss: 9.1782e-06 - val_loss: 0.0050\n",
      "Epoch 13/200\n",
      "43/43 [==============================] - 0s 9ms/step - loss: 7.3855e-06 - val_loss: 0.01750\n",
      "Epoch 14/200\n",
      "43/43 [==============================] - 0s 9ms/step - loss: 1.8229e-05 - val_loss: 0.0086\n",
      "Epoch 15/200\n",
      "43/43 [==============================] - 0s 8ms/step - loss: 2.0785e-05 - val_loss: 0.0028\n",
      "Epoch 16/200\n",
      "43/43 [==============================] - 0s 10ms/step - loss: 1.5903e-05 - val_loss: 2.0590e-04\n",
      "Epoch 17/200\n",
      "43/43 [==============================] - 0s 11ms/step - loss: 1.3275e-05 - val_loss: 0.0064\n",
      "Epoch 18/200\n",
      "43/43 [==============================] - 1s 12ms/step - loss: 5.9576e-06 - val_loss: 0.0039\n",
      "Epoch 19/200\n",
      "43/43 [==============================] - ETA: 0s - loss: 1.3334e-0 - 0s 9ms/step - loss: 1.2808e-05 - val_loss: 0.0078\n",
      "Epoch 20/200\n",
      "43/43 [==============================] - 0s 9ms/step - loss: 1.4769e-05 - val_loss: 0.0014\n",
      "Epoch 21/200\n",
      "43/43 [==============================] - 0s 9ms/step - loss: 1.2424e-05 - val_loss: 5.9019e-04\n",
      "Epoch 22/200\n",
      "43/43 [==============================] - 0s 9ms/step - loss: 1.2748e-05 - val_loss: 0.0090\n",
      "Epoch 23/200\n",
      "43/43 [==============================] - 0s 9ms/step - loss: 1.3544e-05 - val_loss: 0.0037\n",
      "Epoch 24/200\n",
      "43/43 [==============================] - 0s 9ms/step - loss: 1.4238e-05 - val_loss: 0.0022\n",
      "Epoch 25/200\n",
      "43/43 [==============================] - 0s 8ms/step - loss: 2.3649e-05 - val_loss: 8.6579e-05\n",
      "Epoch 26/200\n",
      "43/43 [==============================] - 0s 10ms/step - loss: 1.5506e-05 - val_loss: 2.8982e-04\n",
      "Epoch 27/200\n",
      "43/43 [==============================] - 0s 9ms/step - loss: 1.4160e-05 - val_loss: 5.2542e-05\n",
      "Epoch 28/200\n",
      "43/43 [==============================] - 1s 12ms/step - loss: 1.9538e-05 - val_loss: 1.2524e-04\n",
      "Epoch 29/200\n",
      "43/43 [==============================] - 1s 13ms/step - loss: 3.2544e-05 - val_loss: 7.5115e-04\n",
      "Epoch 30/200\n",
      "43/43 [==============================] - 1s 12ms/step - loss: 1.4833e-05 - val_loss: 4.6576e-04\n",
      "Epoch 31/200\n",
      "43/43 [==============================] - 1s 12ms/step - loss: 3.1082e-05 - val_loss: 0.0035\n",
      "Epoch 32/200\n",
      "43/43 [==============================] - 1s 12ms/step - loss: 1.8669e-05 - val_loss: 2.3334e-04\n",
      "Epoch 33/200\n",
      "43/43 [==============================] - 1s 13ms/step - loss: 9.5657e-06 - val_loss: 1.2651e-04\n",
      "Epoch 34/200\n",
      "43/43 [==============================] - ETA: 0s - loss: 1.2155e-0 - 1s 13ms/step - loss: 1.2155e-05 - val_loss: 0.0078\n",
      "Epoch 35/200\n",
      "43/43 [==============================] - 1s 13ms/step - loss: 5.3777e-05 - val_loss: 0.0091\n",
      "Epoch 36/200\n",
      "43/43 [==============================] - 1s 13ms/step - loss: 3.3961e-05 - val_loss: 0.0012\n",
      "Epoch 37/200\n",
      "43/43 [==============================] - 1s 13ms/step - loss: 3.3873e-05 - val_loss: 6.7482e-04\n",
      "Epoch 38/200\n",
      "43/43 [==============================] - 1s 13ms/step - loss: 1.0729e-05 - val_loss: 0.0043\n",
      "Epoch 39/200\n",
      "43/43 [==============================] - 1s 14ms/step - loss: 8.3980e-06 - val_loss: 0.0013\n",
      "Epoch 40/200\n",
      "43/43 [==============================] - 1s 14ms/step - loss: 1.0530e-05 - val_loss: 0.0034\n",
      "Epoch 41/200\n",
      "43/43 [==============================] - 1s 16ms/step - loss: 1.3739e-05 - val_loss: 5.5171e-05\n",
      "Epoch 42/200\n",
      "43/43 [==============================] - 1s 16ms/step - loss: 9.4782e-06 - val_loss: 0.0029\n",
      "Epoch 43/200\n",
      "43/43 [==============================] - 1s 14ms/step - loss: 9.8683e-06 - val_loss: 0.0028\n",
      "Epoch 44/200\n",
      "43/43 [==============================] - 1s 14ms/step - loss: 9.5758e-06 - val_loss: 8.2568e-05\n",
      "Epoch 45/200\n",
      "43/43 [==============================] - 1s 14ms/step - loss: 1.4125e-05 - val_loss: 0.0020\n",
      "Epoch 46/200\n",
      "43/43 [==============================] - 1s 14ms/step - loss: 2.0405e-05 - val_loss: 0.0013\n",
      "Epoch 47/200\n",
      "43/43 [==============================] - 1s 14ms/step - loss: 9.1310e-06 - val_loss: 0.0052\n",
      "Epoch 48/200\n",
      "43/43 [==============================] - 1s 14ms/step - loss: 9.1825e-06 - val_loss: 0.0014\n",
      "Epoch 49/200\n",
      "43/43 [==============================] - 1s 14ms/step - loss: 2.9173e-05 - val_loss: 8.9920e-04\n",
      "Epoch 50/200\n",
      "43/43 [==============================] - 1s 14ms/step - loss: 1.6055e-05 - val_loss: 0.0028\n",
      "Epoch 51/200\n",
      "43/43 [==============================] - 1s 14ms/step - loss: 1.4496e-05 - val_loss: 5.7083e-05\n",
      "Epoch 52/200\n",
      "43/43 [==============================] - 1s 14ms/step - loss: 7.8044e-06 - val_loss: 9.3185e-04\n",
      "Epoch 53/200\n",
      "43/43 [==============================] - 1s 14ms/step - loss: 1.0524e-05 - val_loss: 0.0019\n",
      "Epoch 54/200\n",
      "43/43 [==============================] - 1s 13ms/step - loss: 1.0726e-05 - val_loss: 6.9876e-05\n",
      "Epoch 55/200\n",
      "43/43 [==============================] - 1s 14ms/step - loss: 9.1436e-06 - val_loss: 1.6362e-04\n",
      "Epoch 56/200\n",
      "43/43 [==============================] - 1s 14ms/step - loss: 1.6529e-05 - val_loss: 0.0081\n",
      "Epoch 57/200\n",
      "43/43 [==============================] - 1s 14ms/step - loss: 5.3515e-05 - val_loss: 3.5774e-04\n",
      "Epoch 58/200\n",
      "43/43 [==============================] - 1s 14ms/step - loss: 1.7408e-05 - val_loss: 0.0015\n",
      "Epoch 59/200\n",
      "43/43 [==============================] - 1s 14ms/step - loss: 1.0976e-05 - val_loss: 0.0015\n",
      "Epoch 60/200\n",
      "43/43 [==============================] - 1s 14ms/step - loss: 1.5849e-05 - val_loss: 0.0014\n",
      "Epoch 61/200\n",
      "43/43 [==============================] - 1s 14ms/step - loss: 9.2681e-06 - val_loss: 8.2246e-04\n",
      "Epoch 62/200\n",
      "43/43 [==============================] - 1s 14ms/step - loss: 1.4055e-05 - val_loss: 0.0046\n",
      "Epoch 63/200\n",
      "43/43 [==============================] - 1s 14ms/step - loss: 9.0356e-06 - val_loss: 7.4475e-04\n",
      "Epoch 64/200\n",
      "43/43 [==============================] - 1s 15ms/step - loss: 1.2796e-05 - val_loss: 0.0034\n",
      "Epoch 65/200\n",
      "43/43 [==============================] - 1s 13ms/step - loss: 8.1874e-06 - val_loss: 0.0035\n",
      "Epoch 66/200\n",
      "43/43 [==============================] - 1s 13ms/step - loss: 1.8465e-05 - val_loss: 0.0029\n",
      "Epoch 67/200\n",
      "43/43 [==============================] - 1s 13ms/step - loss: 1.7954e-05 - val_loss: 6.8107e-04\n",
      "Epoch 68/200\n",
      "43/43 [==============================] - 1s 13ms/step - loss: 1.1536e-05 - val_loss: 4.1558e-04\n",
      "Epoch 69/200\n",
      "43/43 [==============================] - 1s 13ms/step - loss: 8.8935e-06 - val_loss: 0.0017\n",
      "Epoch 70/200\n",
      "43/43 [==============================] - 1s 12ms/step - loss: 1.4705e-05 - val_loss: 8.8095e-04\n",
      "Epoch 71/200\n",
      "43/43 [==============================] - 0s 11ms/step - loss: 1.5711e-05 - val_loss: 7.5112e-04\n",
      "Epoch 72/200\n",
      "43/43 [==============================] - 1s 13ms/step - loss: 7.9676e-06 - val_loss: 0.0017\n",
      "Epoch 73/200\n",
      "43/43 [==============================] - 0s 12ms/step - loss: 1.5986e-05 - val_loss: 4.6091e-04\n",
      "Epoch 74/200\n",
      "43/43 [==============================] - 1s 12ms/step - loss: 4.2068e-05 - val_loss: 9.0243e-04\n",
      "Epoch 75/200\n",
      "43/43 [==============================] - 0s 11ms/step - loss: 1.6865e-05 - val_loss: 0.0020\n",
      "Epoch 76/200\n",
      "43/43 [==============================] - 1s 12ms/step - loss: 1.2626e-05 - val_loss: 3.5127e-04\n",
      "Epoch 77/200\n",
      "43/43 [==============================] - 1s 13ms/step - loss: 2.1041e-05 - val_loss: 0.0050\n",
      "Epoch 78/200\n",
      "43/43 [==============================] - 1s 14ms/step - loss: 1.2794e-05 - val_loss: 1.2821e-04\n",
      "Epoch 79/200\n",
      "43/43 [==============================] - 1s 14ms/step - loss: 8.6452e-06 - val_loss: 3.1131e-04\n",
      "Epoch 80/200\n",
      "43/43 [==============================] - 1s 13ms/step - loss: 9.7697e-06 - val_loss: 4.1434e-04\n",
      "Epoch 81/200\n",
      "43/43 [==============================] - 1s 13ms/step - loss: 1.4731e-05 - val_loss: 0.0040\n",
      "Epoch 82/200\n",
      "43/43 [==============================] - 1s 13ms/step - loss: 1.3839e-05 - val_loss: 0.0038\n",
      "Epoch 83/200\n",
      "43/43 [==============================] - 1s 13ms/step - loss: 1.4367e-05 - val_loss: 8.1765e-04\n",
      "Epoch 84/200\n",
      "43/43 [==============================] - 1s 13ms/step - loss: 1.5260e-05 - val_loss: 0.0011\n",
      "Epoch 85/200\n",
      "43/43 [==============================] - 1s 13ms/step - loss: 1.1047e-05 - val_loss: 7.6293e-04\n",
      "Epoch 86/200\n",
      "43/43 [==============================] - 1s 14ms/step - loss: 1.4973e-05 - val_loss: 0.0014\n",
      "Epoch 87/200\n",
      "43/43 [==============================] - 1s 12ms/step - loss: 6.6373e-06 - val_loss: 2.9296e-04\n",
      "Epoch 88/200\n",
      "43/43 [==============================] - 0s 10ms/step - loss: 1.1265e-05 - val_loss: 1.8402e-04\n",
      "Epoch 89/200\n",
      "43/43 [==============================] - 0s 8ms/step - loss: 9.0542e-06 - val_loss: 0.0034\n",
      "Epoch 90/200\n",
      "43/43 [==============================] - 0s 8ms/step - loss: 1.5718e-05 - val_loss: 2.5327e-04\n",
      "Epoch 91/200\n",
      "43/43 [==============================] - 0s 8ms/step - loss: 9.1446e-06 - val_loss: 5.1506e-04\n",
      "Epoch 92/200\n",
      "43/43 [==============================] - 0s 9ms/step - loss: 2.4029e-05 - val_loss: 0.0011\n",
      "Epoch 93/200\n",
      "43/43 [==============================] - 0s 11ms/step - loss: 1.6406e-05 - val_loss: 0.0030\n",
      "Epoch 94/200\n",
      "43/43 [==============================] - 0s 10ms/step - loss: 1.4972e-05 - val_loss: 0.0028\n",
      "Epoch 95/200\n",
      "43/43 [==============================] - 0s 9ms/step - loss: 1.1707e-05 - val_loss: 0.0030\n",
      "Epoch 96/200\n",
      "43/43 [==============================] - 0s 10ms/step - loss: 1.0134e-05 - val_loss: 0.0035\n",
      "Epoch 97/200\n",
      "43/43 [==============================] - 0s 10ms/step - loss: 1.3914e-05 - val_loss: 0.0022\n",
      "Epoch 98/200\n",
      "43/43 [==============================] - 0s 9ms/step - loss: 1.4791e-05 - val_loss: 1.1876e-04\n",
      "Epoch 99/200\n",
      "43/43 [==============================] - 0s 9ms/step - loss: 1.6911e-05 - val_loss: 4.6685e-04\n",
      "Epoch 100/200\n",
      "43/43 [==============================] - 0s 9ms/step - loss: 1.0285e-05 - val_loss: 0.0022\n",
      "Epoch 101/200\n",
      "43/43 [==============================] - 0s 9ms/step - loss: 1.2490e-05 - val_loss: 0.0042\n",
      "Epoch 102/200\n",
      "43/43 [==============================] - 0s 11ms/step - loss: 9.3959e-06 - val_loss: 1.5647e-04\n",
      "Epoch 103/200\n",
      "43/43 [==============================] - 1s 12ms/step - loss: 6.9937e-06 - val_loss: 0.0022\n",
      "Epoch 104/200\n",
      "43/43 [==============================] - 1s 13ms/step - loss: 1.4261e-05 - val_loss: 5.9447e-04\n",
      "Epoch 105/200\n",
      "43/43 [==============================] - 1s 12ms/step - loss: 1.2769e-05 - val_loss: 6.6674e-04\n",
      "Epoch 106/200\n",
      "43/43 [==============================] - 1s 13ms/step - loss: 1.6594e-05 - val_loss: 1.6685e-04\n",
      "Epoch 107/200\n",
      "43/43 [==============================] - 1s 14ms/step - loss: 1.3183e-05 - val_loss: 8.2263e-04\n",
      "Epoch 108/200\n",
      "43/43 [==============================] - 1s 17ms/step - loss: 2.1859e-05 - val_loss: 5.3000e-04\n",
      "Epoch 109/200\n",
      "43/43 [==============================] - 1s 15ms/step - loss: 8.5506e-06 - val_loss: 8.6859e-04\n",
      "Epoch 110/200\n",
      "43/43 [==============================] - 1s 12ms/step - loss: 1.1164e-05 - val_loss: 4.7888e-05\n",
      "Epoch 111/200\n",
      "43/43 [==============================] - 0s 11ms/step - loss: 2.1094e-05 - val_loss: 5.6370e-05\n",
      "Epoch 112/200\n",
      "43/43 [==============================] - 0s 11ms/step - loss: 1.9230e-05 - val_loss: 1.6242e-04\n",
      "Epoch 113/200\n",
      "43/43 [==============================] - 0s 10ms/step - loss: 2.1656e-05 - val_loss: 0.0020\n",
      "Epoch 114/200\n",
      "43/43 [==============================] - 0s 9ms/step - loss: 5.9639e-06 - val_loss: 0.0014\n",
      "Epoch 115/200\n",
      "43/43 [==============================] - 0s 9ms/step - loss: 8.4705e-06 - val_loss: 0.0012\n",
      "Epoch 116/200\n",
      "43/43 [==============================] - 0s 10ms/step - loss: 9.2373e-06 - val_loss: 0.0012\n",
      "Epoch 117/200\n",
      "43/43 [==============================] - 0s 9ms/step - loss: 1.8410e-05 - val_loss: 0.0014\n",
      "Epoch 118/200\n",
      "43/43 [==============================] - 0s 9ms/step - loss: 9.4578e-06 - val_loss: 3.4910e-04\n",
      "Epoch 119/200\n",
      "43/43 [==============================] - 0s 9ms/step - loss: 9.8014e-06 - val_loss: 2.5401e-04\n",
      "Epoch 120/200\n",
      "43/43 [==============================] - 0s 9ms/step - loss: 1.1804e-05 - val_loss: 0.0042\n",
      "Epoch 121/200\n",
      "43/43 [==============================] - 0s 9ms/step - loss: 9.2295e-06 - val_loss: 0.0013\n",
      "Epoch 122/200\n",
      "43/43 [==============================] - 0s 9ms/step - loss: 8.7967e-06 - val_loss: 0.0012\n",
      "Epoch 123/200\n",
      "43/43 [==============================] - 0s 9ms/step - loss: 1.1699e-05 - val_loss: 9.2389e-04\n",
      "Epoch 124/200\n",
      "43/43 [==============================] - 0s 9ms/step - loss: 5.1102e-06 - val_loss: 0.0014\n",
      "Epoch 125/200\n",
      "43/43 [==============================] - 0s 8ms/step - loss: 9.6924e-06 - val_loss: 0.0036\n",
      "Epoch 126/200\n",
      "43/43 [==============================] - 0s 8ms/step - loss: 1.0716e-05 - val_loss: 8.7882e-04\n",
      "Epoch 127/200\n",
      "43/43 [==============================] - 0s 9ms/step - loss: 7.9696e-06 - val_loss: 0.0012\n",
      "Epoch 128/200\n",
      "43/43 [==============================] - 0s 9ms/step - loss: 7.7035e-06 - val_loss: 0.0029\n",
      "Epoch 129/200\n",
      "43/43 [==============================] - 0s 10ms/step - loss: 6.9762e-06 - val_loss: 3.3613e-04\n",
      "Epoch 130/200\n",
      "43/43 [==============================] - 0s 9ms/step - loss: 1.0615e-05 - val_loss: 0.0031\n",
      "Epoch 131/200\n",
      "43/43 [==============================] - 0s 9ms/step - loss: 8.5064e-06 - val_loss: 0.0017\n",
      "Epoch 132/200\n",
      "43/43 [==============================] - 0s 9ms/step - loss: 5.9706e-06 - val_loss: 3.9933e-04\n",
      "Epoch 133/200\n",
      "43/43 [==============================] - 0s 9ms/step - loss: 4.1248e-06 - val_loss: 0.0043\n",
      "Epoch 134/200\n",
      "43/43 [==============================] - 0s 10ms/step - loss: 6.5062e-06 - val_loss: 0.0017\n",
      "Epoch 135/200\n",
      "43/43 [==============================] - 0s 10ms/step - loss: 1.6919e-05 - val_loss: 8.9324e-04\n",
      "Epoch 136/200\n",
      "43/43 [==============================] - 0s 10ms/step - loss: 1.5594e-05 - val_loss: 0.0020\n",
      "Epoch 137/200\n",
      "43/43 [==============================] - 0s 12ms/step - loss: 6.3305e-06 - val_loss: 0.0043\n",
      "Epoch 138/200\n",
      "43/43 [==============================] - 0s 10ms/step - loss: 1.5319e-05 - val_loss: 9.6734e-04\n",
      "Epoch 139/200\n",
      "43/43 [==============================] - 0s 9ms/step - loss: 9.7454e-06 - val_loss: 4.8960e-04\n",
      "Epoch 140/200\n",
      "43/43 [==============================] - 0s 9ms/step - loss: 6.9215e-06 - val_loss: 9.5282e-04\n",
      "Epoch 141/200\n",
      "43/43 [==============================] - 0s 9ms/step - loss: 7.0958e-06 - val_loss: 6.2783e-04\n",
      "Epoch 142/200\n",
      "43/43 [==============================] - 0s 9ms/step - loss: 1.1042e-05 - val_loss: 0.0020\n",
      "Epoch 143/200\n",
      "43/43 [==============================] - 0s 9ms/step - loss: 6.1734e-06 - val_loss: 0.0012\n",
      "Epoch 144/200\n",
      "43/43 [==============================] - 0s 10ms/step - loss: 1.0499e-05 - val_loss: 0.0018\n",
      "Epoch 145/200\n",
      "43/43 [==============================] - 0s 11ms/step - loss: 5.8984e-06 - val_loss: 0.0014\n",
      "Epoch 146/200\n",
      "43/43 [==============================] - 0s 9ms/step - loss: 9.4305e-06 - val_loss: 0.0020\n",
      "Epoch 147/200\n",
      "43/43 [==============================] - 0s 10ms/step - loss: 3.6624e-06 - val_loss: 6.5735e-04\n",
      "Epoch 148/200\n",
      "43/43 [==============================] - 0s 8ms/step - loss: 6.2461e-06 - val_loss: 0.0036\n",
      "Epoch 149/200\n",
      "43/43 [==============================] - 0s 8ms/step - loss: 4.7021e-06 - val_loss: 3.6643e-04\n",
      "Epoch 150/200\n",
      "43/43 [==============================] - 0s 8ms/step - loss: 2.0796e-05 - val_loss: 0.0014\n",
      "Epoch 151/200\n",
      "43/43 [==============================] - 0s 9ms/step - loss: 2.7971e-05 - val_loss: 5.8226e-04\n",
      "Epoch 152/200\n",
      "43/43 [==============================] - 0s 9ms/step - loss: 9.1057e-06 - val_loss: 0.0036\n",
      "Epoch 153/200\n"
     ]
    },
    {
     "name": "stdout",
     "output_type": "stream",
     "text": [
      "43/43 [==============================] - 0s 9ms/step - loss: 6.2779e-06 - val_loss: 4.8538e-04\n",
      "Epoch 154/200\n",
      "43/43 [==============================] - 0s 9ms/step - loss: 1.2187e-05 - val_loss: 0.0045\n",
      "Epoch 155/200\n",
      "43/43 [==============================] - 0s 8ms/step - loss: 1.6153e-05 - val_loss: 0.0033\n",
      "Epoch 156/200\n",
      "43/43 [==============================] - 0s 8ms/step - loss: 4.9495e-06 - val_loss: 1.6648e-04\n",
      "Epoch 157/200\n",
      "43/43 [==============================] - 0s 9ms/step - loss: 7.8892e-06 - val_loss: 0.0029\n",
      "Epoch 158/200\n",
      "43/43 [==============================] - 0s 8ms/step - loss: 1.4566e-05 - val_loss: 0.0017\n",
      "Epoch 159/200\n",
      "43/43 [==============================] - 0s 8ms/step - loss: 1.0236e-05 - val_loss: 0.0017\n",
      "Epoch 160/200\n",
      "43/43 [==============================] - 0s 8ms/step - loss: 4.6911e-06 - val_loss: 0.0013\n",
      "Epoch 161/200\n",
      "43/43 [==============================] - 0s 8ms/step - loss: 5.6600e-06 - val_loss: 0.0021\n",
      "Epoch 162/200\n",
      "43/43 [==============================] - 0s 9ms/step - loss: 7.4542e-06 - val_loss: 0.0026\n",
      "Epoch 163/200\n",
      "43/43 [==============================] - 0s 9ms/step - loss: 8.5373e-06 - val_loss: 0.0020\n",
      "Epoch 164/200\n",
      "43/43 [==============================] - 0s 10ms/step - loss: 7.8319e-06 - val_loss: 0.0076\n",
      "Epoch 165/200\n",
      "43/43 [==============================] - 0s 11ms/step - loss: 1.2385e-05 - val_loss: 0.0042\n",
      "Epoch 166/200\n",
      "43/43 [==============================] - 0s 9ms/step - loss: 8.6864e-06 - val_loss: 0.0019\n",
      "Epoch 167/200\n",
      "43/43 [==============================] - 0s 9ms/step - loss: 1.0114e-05 - val_loss: 3.9648e-04\n",
      "Epoch 168/200\n",
      "43/43 [==============================] - 0s 9ms/step - loss: 2.1931e-05 - val_loss: 4.0651e-05\n",
      "Epoch 169/200\n",
      "43/43 [==============================] - 0s 10ms/step - loss: 1.5045e-05 - val_loss: 0.0026\n",
      "Epoch 170/200\n",
      "43/43 [==============================] - 0s 9ms/step - loss: 4.6326e-06 - val_loss: 8.9762e-04\n",
      "Epoch 171/200\n",
      "43/43 [==============================] - 0s 10ms/step - loss: 2.9619e-06 - val_loss: 0.0036\n",
      "Epoch 172/200\n",
      "43/43 [==============================] - 0s 9ms/step - loss: 8.6576e-06 - val_loss: 7.2220e-04\n",
      "Epoch 173/200\n",
      "43/43 [==============================] - 0s 10ms/step - loss: 4.7326e-06 - val_loss: 0.0040\n",
      "Epoch 174/200\n",
      "43/43 [==============================] - 0s 11ms/step - loss: 5.2441e-06 - val_loss: 0.0015\n",
      "Epoch 175/200\n",
      "43/43 [==============================] - 0s 10ms/step - loss: 4.2756e-06 - val_loss: 0.0010\n",
      "Epoch 176/200\n",
      "43/43 [==============================] - 0s 7ms/step - loss: 3.4888e-06 - val_loss: 0.0022\n",
      "Epoch 177/200\n",
      "43/43 [==============================] - 0s 8ms/step - loss: 7.8713e-06 - val_loss: 8.4338e-04\n",
      "Epoch 178/200\n",
      "43/43 [==============================] - 0s 8ms/step - loss: 1.0729e-05 - val_loss: 0.0044\n",
      "Epoch 179/200\n",
      "43/43 [==============================] - 0s 8ms/step - loss: 6.3071e-06 - val_loss: 0.0017\n",
      "Epoch 180/200\n",
      "43/43 [==============================] - 0s 8ms/step - loss: 5.3933e-06 - val_loss: 0.0013\n",
      "Epoch 181/200\n",
      "43/43 [==============================] - 0s 8ms/step - loss: 8.3890e-06 - val_loss: 4.2857e-05\n",
      "Epoch 182/200\n",
      "43/43 [==============================] - 0s 11ms/step - loss: 5.9362e-06 - val_loss: 0.0041\n",
      "Epoch 183/200\n",
      "43/43 [==============================] - 0s 9ms/step - loss: 1.9068e-05 - val_loss: 0.0014\n",
      "Epoch 184/200\n",
      "43/43 [==============================] - 0s 8ms/step - loss: 5.9951e-06 - val_loss: 0.0010\n",
      "Epoch 185/200\n",
      "43/43 [==============================] - 0s 8ms/step - loss: 6.6193e-06 - val_loss: 0.0026\n",
      "Epoch 186/200\n",
      "43/43 [==============================] - 0s 8ms/step - loss: 5.8967e-06 - val_loss: 0.0011\n",
      "Epoch 187/200\n",
      "43/43 [==============================] - 0s 8ms/step - loss: 1.1109e-05 - val_loss: 0.0029\n",
      "Epoch 188/200\n",
      "43/43 [==============================] - 0s 8ms/step - loss: 3.3805e-06 - val_loss: 0.0022\n",
      "Epoch 189/200\n",
      "43/43 [==============================] - 0s 9ms/step - loss: 1.0297e-05 - val_loss: 0.0028\n",
      "Epoch 190/200\n",
      "43/43 [==============================] - 0s 9ms/step - loss: 2.9126e-06 - val_loss: 0.0011\n",
      "Epoch 191/200\n",
      "43/43 [==============================] - 0s 10ms/step - loss: 8.7325e-06 - val_loss: 7.5344e-04\n",
      "Epoch 192/200\n",
      "43/43 [==============================] - 0s 11ms/step - loss: 6.7155e-06 - val_loss: 9.3752e-04\n",
      "Epoch 193/200\n",
      "43/43 [==============================] - 0s 9ms/step - loss: 6.1608e-06 - val_loss: 0.0016\n",
      "Epoch 194/200\n",
      "43/43 [==============================] - 0s 8ms/step - loss: 5.7634e-06 - val_loss: 0.0024\n",
      "Epoch 195/200\n",
      "43/43 [==============================] - 0s 8ms/step - loss: 7.0630e-06 - val_loss: 1.4056e-04\n",
      "Epoch 196/200\n",
      "43/43 [==============================] - 0s 8ms/step - loss: 6.5690e-06 - val_loss: 9.3661e-04\n",
      "Epoch 197/200\n",
      "43/43 [==============================] - 0s 8ms/step - loss: 7.0537e-06 - val_loss: 8.1033e-05\n",
      "Epoch 198/200\n",
      "43/43 [==============================] - 0s 8ms/step - loss: 6.0325e-06 - val_loss: 0.0011\n",
      "Epoch 199/200\n",
      "43/43 [==============================] - 0s 8ms/step - loss: 5.5036e-06 - val_loss: 0.0053\n",
      "Epoch 200/200\n",
      "43/43 [==============================] - 0s 8ms/step - loss: 1.4015e-05 - val_loss: 0.0013\n"
     ]
    }
   ],
   "source": [
    "history=model.fit(X_train,y_train,validation_data=(X_test,ytest),epochs=200,batch_size=1,verbose=1)"
   ]
  },
  {
   "cell_type": "code",
   "execution_count": null,
   "metadata": {},
   "outputs": [],
   "source": [
    "plt.plot(history.history['loss'])\n",
    "plt.plot(history.history['val_loss'])\n",
    "plt.title('model loss')\n",
    "plt.ylabel('loss')\n",
    "plt.xlabel('epoch')\n",
    "plt.legend(['Training Loss', 'Validation Loss'])\n",
    "plt.show()"
   ]
  },
  {
   "cell_type": "code",
   "execution_count": null,
   "metadata": {},
   "outputs": [],
   "source": [
    "train_predict=model.predict(X_train)\n",
    "test_predict=model.predict(X_test)"
   ]
  },
  {
   "cell_type": "markdown",
   "metadata": {},
   "source": [
    "Training RMSE"
   ]
  },
  {
   "cell_type": "code",
   "execution_count": null,
   "metadata": {},
   "outputs": [],
   "source": [
    "\n",
    "import math\n",
    "from sklearn.metrics import mean_squared_error\n",
    "from sklearn.metrics import mean_absolute_error\n",
    "math.sqrt(mean_squared_error(y_train,train_predict))"
   ]
  },
  {
   "cell_type": "markdown",
   "metadata": {},
   "source": [
    "Validation RMSE"
   ]
  },
  {
   "cell_type": "code",
   "execution_count": null,
   "metadata": {},
   "outputs": [],
   "source": [
    "\n",
    "math.sqrt(mean_squared_error(ytest,test_predict))"
   ]
  },
  {
   "cell_type": "markdown",
   "metadata": {},
   "source": [
    "Training MEA"
   ]
  },
  {
   "cell_type": "code",
   "execution_count": null,
   "metadata": {},
   "outputs": [],
   "source": [
    "mean_absolute_error(y_train,train_predict)"
   ]
  },
  {
   "cell_type": "markdown",
   "metadata": {},
   "source": [
    "Validation MEA"
   ]
  },
  {
   "cell_type": "code",
   "execution_count": null,
   "metadata": {},
   "outputs": [],
   "source": [
    "mean_absolute_error(ytest,test_predict)"
   ]
  },
  {
   "cell_type": "code",
   "execution_count": null,
   "metadata": {},
   "outputs": [],
   "source": [
    "train_predict=scaler.inverse_transform(train_predict)\n",
    "test_predict=scaler.inverse_transform(test_predict)\n",
    "look_back=55\n",
    "trainPredictPlot = numpy.empty_like(df1)\n",
    "trainPredictPlot[:, :] = np.nan\n",
    "trainPredictPlot[look_back:len(train_predict)+look_back, :] = train_predict\n",
    "\n",
    "testPredictPlot = numpy.empty_like(df1)\n",
    "testPredictPlot[:, :] = numpy.nan\n",
    "testPredictPlot[len(train_predict)+(look_back*2)+1:len(df1)-1, :] = test_predict\n",
    "\n",
    "plt.plot(scaler.inverse_transform(df1))\n",
    "plt.plot(trainPredictPlot)\n",
    "plt.plot(testPredictPlot)\n",
    "plt.show()"
   ]
  },
  {
   "cell_type": "code",
   "execution_count": null,
   "metadata": {},
   "outputs": [],
   "source": [
    "len(test_data)"
   ]
  },
  {
   "cell_type": "code",
   "execution_count": null,
   "metadata": {},
   "outputs": [],
   "source": [
    "x_input=test_data[19:].reshape(1,-1)\n",
    "x_input.shape\n"
   ]
  },
  {
   "cell_type": "code",
   "execution_count": null,
   "metadata": {},
   "outputs": [],
   "source": [
    "x_input"
   ]
  },
  {
   "cell_type": "code",
   "execution_count": null,
   "metadata": {},
   "outputs": [],
   "source": [
    "temp_input=list(x_input)\n",
    "temp_input=temp_input[0].tolist()"
   ]
  },
  {
   "cell_type": "code",
   "execution_count": null,
   "metadata": {},
   "outputs": [],
   "source": [
    "temp_input"
   ]
  },
  {
   "cell_type": "code",
   "execution_count": null,
   "metadata": {},
   "outputs": [],
   "source": [
    "from numpy import array\n",
    "\n",
    "lst_output=[]\n",
    "n_steps=55\n",
    "i=0\n",
    "while(i<180):\n",
    "    \n",
    "    if(len(temp_input)>55):\n",
    "        \n",
    "        x_input=np.array(temp_input[1:])\n",
    "        print(\"{} day input {}\".format(i,x_input))\n",
    "        x_input=x_input.reshape(1,-1)\n",
    "        x_input = x_input.reshape((1, n_steps, 1))\n",
    "        #print(x_input)\n",
    "        yhat = model.predict(x_input, verbose=0)\n",
    "        print(\"{} day output {}\".format(i,yhat))\n",
    "        temp_input.extend(yhat[0].tolist())\n",
    "        temp_input=temp_input[1:]\n",
    "        #print(temp_input)\n",
    "        lst_output.extend(yhat.tolist())\n",
    "        i=i+1\n",
    "    else:\n",
    "        x_input = x_input.reshape((1, n_steps,1))\n",
    "        yhat = model.predict(x_input, verbose=0)\n",
    "        print(yhat[0])\n",
    "        temp_input.extend(yhat[0].tolist())\n",
    "        print(len(temp_input))\n",
    "        lst_output.extend(yhat.tolist())\n",
    "        i=i+1\n",
    "    \n",
    "\n",
    "print(lst_output)"
   ]
  },
  {
   "cell_type": "code",
   "execution_count": null,
   "metadata": {},
   "outputs": [],
   "source": [
    "day_new=np.arange(1,56)\n",
    "day_pred=np.arange(56,236)"
   ]
  },
  {
   "cell_type": "code",
   "execution_count": null,
   "metadata": {},
   "outputs": [],
   "source": [
    "import matplotlib.pyplot as plt"
   ]
  },
  {
   "cell_type": "code",
   "execution_count": null,
   "metadata": {},
   "outputs": [],
   "source": [
    "len(df1)"
   ]
  },
  {
   "cell_type": "code",
   "execution_count": null,
   "metadata": {},
   "outputs": [],
   "source": [
    "plt.plot(day_new,scaler.inverse_transform(df1[130:]))\n",
    "plt.plot(day_pred,scaler.inverse_transform(lst_output))"
   ]
  },
  {
   "cell_type": "code",
   "execution_count": null,
   "metadata": {},
   "outputs": [],
   "source": [
    "df3=df1.tolist()\n",
    "df3.extend(lst_output)\n",
    "plt.plot(df3[135:])"
   ]
  },
  {
   "cell_type": "code",
   "execution_count": null,
   "metadata": {},
   "outputs": [],
   "source": [
    "df3=scaler.inverse_transform(df3).tolist()"
   ]
  },
  {
   "cell_type": "code",
   "execution_count": null,
   "metadata": {},
   "outputs": [],
   "source": [
    "plt.plot(df3)\n",
    "plt.ylabel(\"Confirmed Covid Cases\")\n",
    "plt.xlabel(\"Days\")\n"
   ]
  },
  {
   "cell_type": "code",
   "execution_count": null,
   "metadata": {},
   "outputs": [],
   "source": []
  }
 ],
 "metadata": {
  "kernelspec": {
   "display_name": "Python 3",
   "language": "python",
   "name": "python3"
  },
  "language_info": {
   "codemirror_mode": {
    "name": "ipython",
    "version": 3
   },
   "file_extension": ".py",
   "mimetype": "text/x-python",
   "name": "python",
   "nbconvert_exporter": "python",
   "pygments_lexer": "ipython3",
   "version": "3.8.3"
  }
 },
 "nbformat": 4,
 "nbformat_minor": 2
}
